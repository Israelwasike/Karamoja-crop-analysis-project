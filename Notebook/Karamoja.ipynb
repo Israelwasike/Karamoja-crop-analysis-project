{
 "cells": [
  {
   "cell_type": "markdown",
   "metadata": {},
   "source": [
    "# Karamoja Crop Yield Insights\n",
    "\n"
   ]
  },
  {
   "cell_type": "markdown",
   "metadata": {},
   "source": [
    "   - By: ***Israel Wasike Kahayi***"
   ]
  },
  {
   "cell_type": "markdown",
   "metadata": {},
   "source": [
    "## Problem Statement\n",
    "\n",
    "In the Karamoja region, NGOs face challenges in assessing agricultural productivity due to limited visibility into crop yields across various districts and sub-counties. Despite providing technical support and farm inputs to farmers, there is a significant gap in understanding the spatial distribution and variation of crop yields, particularly for sorghum and maize. This lack of comprehensive data impedes the effective prioritization of interventions and resource allocation. To address this issue, the goal of this project is to develop an interactive visualization tool that leverages data from the 2017 crop season to offer clear insights into crop yield patterns. This tool will help NGOs make informed decisions, optimize their support strategies, and ultimately improve food security in the region."
   ]
  },
  {
   "cell_type": "markdown",
   "metadata": {},
   "source": [
    "## Introduction\n",
    "\n",
    "In this notebook, I will clean and prepare data on crop yields and population in Karamoja for the 2017 crop season. This includes handling missing values, correcting data types, and standardizing formats to ensure the data is ready for analysis and visualization.\n",
    "\n",
    "I will use data from two Excel files:\n",
    "- **District Crop Yield Population Data:** Contains information on crop yields and population by district.\n",
    "- **Subcounty Crop Yield Population Data:** Contains information on crop yields and population by sub-county.\n"
   ]
  },
  {
   "cell_type": "markdown",
   "metadata": {},
   "source": [
    "\n",
    "## Objectives\n",
    "\n",
    "The goal of this analysis is to develop an interactive visualization tool that provides insights into crop yields across different districts and sub-counties in Karamoja for the 2017 crop season. By analyzing and visualizing the data, we aim to:\n",
    "1. **Identify Patterns:** Understand the distribution of crop yields across various regions.\n",
    "2. **Highlight Trends:** Detect any significant trends or anomalies in crop yields.\n",
    "3. **Support Decision-Making:** Provide actionable insights that can help NGOs prioritize their activities and allocate resources more effectively.\n"
   ]
  },
  {
   "cell_type": "markdown",
   "metadata": {},
   "source": [
    "## Research questions"
   ]
  },
  {
   "cell_type": "markdown",
   "metadata": {},
   "source": [
    "1. What are the spatial patterns of population across different districts and  in Karamoja during the 2017 crop season?\n",
    "2. Which districts in Karamoja are experiencing the lowest crop yields, and how do these areas compare with regions of higher productivity?\n",
    "3. How does the population size of a district or sub-county correlate with the crop yield in Karamoja?\n",
    "4. What is the proportion of land dedicated to Sorghum and Maize in different districts?\n",
    "5. What trends can be observed in crop production relative to changes in crop area over the specified period?"
   ]
  },
  {
   "cell_type": "markdown",
   "metadata": {},
   "source": [
    "### 1. Importing the necesarry libraries"
   ]
  },
  {
   "cell_type": "code",
   "execution_count": 1,
   "metadata": {},
   "outputs": [],
   "source": [
    "import pandas as pd \n",
    "import numpy as np\n",
    "import matplotlib.pyplot as plt\n",
    "import seaborn as sns"
   ]
  },
  {
   "cell_type": "markdown",
   "metadata": {},
   "source": [
    "### 2. Loading the files"
   ]
  },
  {
   "cell_type": "code",
   "execution_count": 2,
   "metadata": {},
   "outputs": [
    {
     "data": {
      "text/html": [
       "<div>\n",
       "<style scoped>\n",
       "    .dataframe tbody tr th:only-of-type {\n",
       "        vertical-align: middle;\n",
       "    }\n",
       "\n",
       "    .dataframe tbody tr th {\n",
       "        vertical-align: top;\n",
       "    }\n",
       "\n",
       "    .dataframe thead th {\n",
       "        text-align: right;\n",
       "    }\n",
       "</style>\n",
       "<table border=\"1\" class=\"dataframe\">\n",
       "  <thead>\n",
       "    <tr style=\"text-align: right;\">\n",
       "      <th></th>\n",
       "      <th>OBJECTID</th>\n",
       "      <th>NAME</th>\n",
       "      <th>POP</th>\n",
       "      <th>Area</th>\n",
       "      <th>S_Yield_Ha</th>\n",
       "      <th>M_Yield_Ha</th>\n",
       "      <th>Crop_Area_Ha</th>\n",
       "      <th>S_Area_Ha</th>\n",
       "      <th>M_Area_Ha</th>\n",
       "      <th>S_Prod_Tot</th>\n",
       "      <th>M_Prod_Tot</th>\n",
       "    </tr>\n",
       "  </thead>\n",
       "  <tbody>\n",
       "    <tr>\n",
       "      <th>0</th>\n",
       "      <td>92</td>\n",
       "      <td>ABIM</td>\n",
       "      <td>90385</td>\n",
       "      <td>2771977106</td>\n",
       "      <td>449</td>\n",
       "      <td>1040</td>\n",
       "      <td>5470.068394</td>\n",
       "      <td>3277.295971</td>\n",
       "      <td>1848.621855</td>\n",
       "      <td>1471506</td>\n",
       "      <td>1922567</td>\n",
       "    </tr>\n",
       "    <tr>\n",
       "      <th>1</th>\n",
       "      <td>96</td>\n",
       "      <td>AMUDAT</td>\n",
       "      <td>101790</td>\n",
       "      <td>1643582836</td>\n",
       "      <td>205</td>\n",
       "      <td>1297</td>\n",
       "      <td>5765.443719</td>\n",
       "      <td>2973.423860</td>\n",
       "      <td>2733.661014</td>\n",
       "      <td>609552</td>\n",
       "      <td>3545558</td>\n",
       "    </tr>\n",
       "    <tr>\n",
       "      <th>2</th>\n",
       "      <td>20</td>\n",
       "      <td>KAABONG</td>\n",
       "      <td>627057</td>\n",
       "      <td>7373606003</td>\n",
       "      <td>279</td>\n",
       "      <td>945</td>\n",
       "      <td>28121.672530</td>\n",
       "      <td>20544.194960</td>\n",
       "      <td>7394.416334</td>\n",
       "      <td>5731830</td>\n",
       "      <td>6987723</td>\n",
       "    </tr>\n",
       "  </tbody>\n",
       "</table>\n",
       "</div>"
      ],
      "text/plain": [
       "   OBJECTID     NAME     POP        Area  S_Yield_Ha  M_Yield_Ha  \\\n",
       "0        92     ABIM   90385  2771977106         449        1040   \n",
       "1        96   AMUDAT  101790  1643582836         205        1297   \n",
       "2        20  KAABONG  627057  7373606003         279         945   \n",
       "\n",
       "   Crop_Area_Ha     S_Area_Ha    M_Area_Ha  S_Prod_Tot  M_Prod_Tot  \n",
       "0   5470.068394   3277.295971  1848.621855     1471506     1922567  \n",
       "1   5765.443719   2973.423860  2733.661014      609552     3545558  \n",
       "2  28121.672530  20544.194960  7394.416334     5731830     6987723  "
      ]
     },
     "execution_count": 2,
     "metadata": {},
     "output_type": "execute_result"
    }
   ],
   "source": [
    "# Load the CSV files\n",
    "district = pd.read_csv('C:/Users/DELL/Documents/course_materials/phase_1/Karamoja-Project/Data/TABLES/Uganda_Karamoja_District_Crop_Yield_Population.csv')\n",
    "subcounty = pd.read_csv('C:/Users/DELL/Documents/course_materials/phase_1/Karamoja-Project/Data/TABLES/Uganda_Karamoja_Subcounty_Crop_Yield_Population.csv')\n",
    "\n",
    "# Display the first few rows of each DataFrame\n",
    "district.head(3)\n",
    "\n",
    "\n"
   ]
  },
  {
   "cell_type": "code",
   "execution_count": 3,
   "metadata": {},
   "outputs": [
    {
     "data": {
      "text/html": [
       "<div>\n",
       "<style scoped>\n",
       "    .dataframe tbody tr th:only-of-type {\n",
       "        vertical-align: middle;\n",
       "    }\n",
       "\n",
       "    .dataframe tbody tr th {\n",
       "        vertical-align: top;\n",
       "    }\n",
       "\n",
       "    .dataframe thead th {\n",
       "        text-align: right;\n",
       "    }\n",
       "</style>\n",
       "<table border=\"1\" class=\"dataframe\">\n",
       "  <thead>\n",
       "    <tr style=\"text-align: right;\">\n",
       "      <th></th>\n",
       "      <th>OBJECTID</th>\n",
       "      <th>SUBCOUNTY_NAME</th>\n",
       "      <th>DISTRICT_NAME</th>\n",
       "      <th>POP</th>\n",
       "      <th>Area</th>\n",
       "      <th>Karamoja</th>\n",
       "      <th>S_Yield_Ha</th>\n",
       "      <th>M_Yield_Ha</th>\n",
       "      <th>Crop_Area_Ha</th>\n",
       "      <th>S_Area_Ha</th>\n",
       "      <th>M_Area_Ha</th>\n",
       "      <th>S_Prod_Tot</th>\n",
       "      <th>M_Prod_Tot</th>\n",
       "    </tr>\n",
       "  </thead>\n",
       "  <tbody>\n",
       "    <tr>\n",
       "      <th>0</th>\n",
       "      <td>263</td>\n",
       "      <td>KACHERI</td>\n",
       "      <td>KOTIDO</td>\n",
       "      <td>17244</td>\n",
       "      <td>1067176155</td>\n",
       "      <td>Y</td>\n",
       "      <td>354.207411</td>\n",
       "      <td>1137.467019</td>\n",
       "      <td>7023.533691</td>\n",
       "      <td>6434.342449</td>\n",
       "      <td>528.124229</td>\n",
       "      <td>2.279092e+06</td>\n",
       "      <td>600723.892900</td>\n",
       "    </tr>\n",
       "    <tr>\n",
       "      <th>1</th>\n",
       "      <td>264</td>\n",
       "      <td>KOTIDO</td>\n",
       "      <td>KOTIDO</td>\n",
       "      <td>52771</td>\n",
       "      <td>597575188</td>\n",
       "      <td>Y</td>\n",
       "      <td>367.890523</td>\n",
       "      <td>1162.996687</td>\n",
       "      <td>13587.990760</td>\n",
       "      <td>12455.592640</td>\n",
       "      <td>824.767081</td>\n",
       "      <td>4.582294e+06</td>\n",
       "      <td>959201.382500</td>\n",
       "    </tr>\n",
       "    <tr>\n",
       "      <th>2</th>\n",
       "      <td>265</td>\n",
       "      <td>KOTIDO TOWN COUNCIL</td>\n",
       "      <td>KOTIDO</td>\n",
       "      <td>27389</td>\n",
       "      <td>23972401</td>\n",
       "      <td>Y</td>\n",
       "      <td>369.314177</td>\n",
       "      <td>1167.005832</td>\n",
       "      <td>1656.531855</td>\n",
       "      <td>1520.322052</td>\n",
       "      <td>8.561644</td>\n",
       "      <td>5.614765e+05</td>\n",
       "      <td>9991.488268</td>\n",
       "    </tr>\n",
       "  </tbody>\n",
       "</table>\n",
       "</div>"
      ],
      "text/plain": [
       "   OBJECTID       SUBCOUNTY_NAME DISTRICT_NAME    POP        Area Karamoja  \\\n",
       "0       263              KACHERI        KOTIDO  17244  1067176155        Y   \n",
       "1       264               KOTIDO        KOTIDO  52771   597575188        Y   \n",
       "2       265  KOTIDO TOWN COUNCIL        KOTIDO  27389    23972401        Y   \n",
       "\n",
       "   S_Yield_Ha   M_Yield_Ha  Crop_Area_Ha     S_Area_Ha   M_Area_Ha  \\\n",
       "0  354.207411  1137.467019   7023.533691   6434.342449  528.124229   \n",
       "1  367.890523  1162.996687  13587.990760  12455.592640  824.767081   \n",
       "2  369.314177  1167.005832   1656.531855   1520.322052    8.561644   \n",
       "\n",
       "     S_Prod_Tot     M_Prod_Tot  \n",
       "0  2.279092e+06  600723.892900  \n",
       "1  4.582294e+06  959201.382500  \n",
       "2  5.614765e+05    9991.488268  "
      ]
     },
     "execution_count": 3,
     "metadata": {},
     "output_type": "execute_result"
    }
   ],
   "source": [
    "subcounty.head(3)"
   ]
  },
  {
   "cell_type": "markdown",
   "metadata": {},
   "source": [
    "Displaying summary statistics for the dataframe"
   ]
  },
  {
   "cell_type": "code",
   "execution_count": 4,
   "metadata": {
    "scrolled": false
   },
   "outputs": [
    {
     "name": "stdout",
     "output_type": "stream",
     "text": [
      "<class 'pandas.core.frame.DataFrame'>\n",
      "RangeIndex: 7 entries, 0 to 6\n",
      "Data columns (total 11 columns):\n",
      " #   Column        Non-Null Count  Dtype  \n",
      "---  ------        --------------  -----  \n",
      " 0   OBJECTID      7 non-null      int64  \n",
      " 1   NAME          7 non-null      object \n",
      " 2   POP           7 non-null      int64  \n",
      " 3   Area          7 non-null      int64  \n",
      " 4   S_Yield_Ha    7 non-null      int64  \n",
      " 5   M_Yield_Ha    7 non-null      int64  \n",
      " 6   Crop_Area_Ha  7 non-null      float64\n",
      " 7   S_Area_Ha     7 non-null      float64\n",
      " 8   M_Area_Ha     7 non-null      float64\n",
      " 9   S_Prod_Tot    7 non-null      int64  \n",
      " 10  M_Prod_Tot    7 non-null      int64  \n",
      "dtypes: float64(3), int64(7), object(1)\n",
      "memory usage: 744.0+ bytes\n",
      "None \n",
      "\n",
      "<class 'pandas.core.frame.DataFrame'>\n",
      "RangeIndex: 52 entries, 0 to 51\n",
      "Data columns (total 13 columns):\n",
      " #   Column          Non-Null Count  Dtype  \n",
      "---  ------          --------------  -----  \n",
      " 0   OBJECTID        52 non-null     int64  \n",
      " 1   SUBCOUNTY_NAME  52 non-null     object \n",
      " 2   DISTRICT_NAME   52 non-null     object \n",
      " 3   POP             52 non-null     int64  \n",
      " 4   Area            52 non-null     int64  \n",
      " 5   Karamoja        52 non-null     object \n",
      " 6   S_Yield_Ha      52 non-null     float64\n",
      " 7   M_Yield_Ha      52 non-null     float64\n",
      " 8   Crop_Area_Ha    52 non-null     float64\n",
      " 9   S_Area_Ha       52 non-null     float64\n",
      " 10  M_Area_Ha       52 non-null     float64\n",
      " 11  S_Prod_Tot      52 non-null     float64\n",
      " 12  M_Prod_Tot      52 non-null     float64\n",
      "dtypes: float64(7), int64(3), object(3)\n",
      "memory usage: 5.4+ KB\n",
      "None\n"
     ]
    }
   ],
   "source": [
    "print(district.info(),\"\\n\")\n",
    "print(subcounty.info())"
   ]
  },
  {
   "cell_type": "markdown",
   "metadata": {},
   "source": [
    "### Checking for duplicate rows"
   ]
  },
  {
   "cell_type": "markdown",
   "metadata": {},
   "source": [
    "If you want to find and handle duplicate rows in a pandas DataFrame, the ***.duplicated()*** method is the go-to tool to use."
   ]
  },
  {
   "cell_type": "code",
   "execution_count": 5,
   "metadata": {},
   "outputs": [
    {
     "name": "stdout",
     "output_type": "stream",
     "text": [
      "Number of duplicate rows in district is: 0 \n",
      "\n",
      "Number of duplicate rows in subcounty is: 0\n"
     ]
    }
   ],
   "source": [
    "# checking whether there are duplicates in the dataframe\n",
    "print(\"Number of duplicate rows in district is:\",district.duplicated().sum(),\"\\n\")\n",
    "print(\"Number of duplicate rows in subcounty is:\",subcounty.duplicated().sum())"
   ]
  },
  {
   "cell_type": "markdown",
   "metadata": {},
   "source": [
    "### Shape of the dataframes"
   ]
  },
  {
   "cell_type": "code",
   "execution_count": 6,
   "metadata": {},
   "outputs": [
    {
     "name": "stdout",
     "output_type": "stream",
     "text": [
      "The dhspe of the district data frame is: (7, 11)\n",
      "The shape of the subcounty data frame is: (52, 13)\n"
     ]
    }
   ],
   "source": [
    "print(f'The dhspe of the district data frame is:',district.shape)\n",
    "print(f'The shape of the subcounty data frame is:',subcounty.shape)"
   ]
  },
  {
   "cell_type": "markdown",
   "metadata": {},
   "source": [
    "### Checking for missing values in the DataFrames"
   ]
  },
  {
   "cell_type": "markdown",
   "metadata": {},
   "source": [
    " ***.isnull()*** is a method used for checking missing values in a dataframe not a function. missung values/ null values are denoted by NaN which means not a number"
   ]
  },
  {
   "cell_type": "code",
   "execution_count": 7,
   "metadata": {},
   "outputs": [
    {
     "name": "stdout",
     "output_type": "stream",
     "text": [
      "missing values in district:\n",
      "OBJECTID        0\n",
      "NAME            0\n",
      "POP             0\n",
      "Area            0\n",
      "S_Yield_Ha      0\n",
      "M_Yield_Ha      0\n",
      "Crop_Area_Ha    0\n",
      "S_Area_Ha       0\n",
      "M_Area_Ha       0\n",
      "S_Prod_Tot      0\n",
      "M_Prod_Tot      0\n",
      "dtype: int64 \n",
      "\n",
      "missing values in subcounty:\n",
      "OBJECTID        0\n",
      "NAME            0\n",
      "POP             0\n",
      "Area            0\n",
      "S_Yield_Ha      0\n",
      "M_Yield_Ha      0\n",
      "Crop_Area_Ha    0\n",
      "S_Area_Ha       0\n",
      "M_Area_Ha       0\n",
      "S_Prod_Tot      0\n",
      "M_Prod_Tot      0\n",
      "dtype: int64 \n",
      "\n"
     ]
    }
   ],
   "source": [
    "# .isnull() checks for any missing values and returns a boolean true or false\n",
    "# where true = the missing value and false = no missing value. \n",
    "#but in this case, i want to know the total number of missing values in every colum, thats where .sum() is used.\n",
    "#.sum() adds all the boolean(true) and guves out a number eg. 5, 10, 12674...\n",
    "\n",
    "missing_values = district.isnull().sum()\n",
    "print('missing values in district:')\n",
    "print(missing_values,\"\\n\")\n",
    "\n",
    "\n",
    "missing_values = district.isnull().sum()\n",
    "print('missing values in subcounty:')\n",
    "print(missing_values,\"\\n\")\n",
    "\n",
    "#the output below shows there are no missing values\n"
   ]
  },
  {
   "cell_type": "markdown",
   "metadata": {},
   "source": [
    "### Descriptive statistics"
   ]
  },
  {
   "cell_type": "code",
   "execution_count": 8,
   "metadata": {},
   "outputs": [
    {
     "data": {
      "text/html": [
       "<div>\n",
       "<style scoped>\n",
       "    .dataframe tbody tr th:only-of-type {\n",
       "        vertical-align: middle;\n",
       "    }\n",
       "\n",
       "    .dataframe tbody tr th {\n",
       "        vertical-align: top;\n",
       "    }\n",
       "\n",
       "    .dataframe thead th {\n",
       "        text-align: right;\n",
       "    }\n",
       "</style>\n",
       "<table border=\"1\" class=\"dataframe\">\n",
       "  <thead>\n",
       "    <tr style=\"text-align: right;\">\n",
       "      <th></th>\n",
       "      <th>OBJECTID</th>\n",
       "      <th>POP</th>\n",
       "      <th>Area</th>\n",
       "      <th>S_Yield_Ha</th>\n",
       "      <th>M_Yield_Ha</th>\n",
       "      <th>Crop_Area_Ha</th>\n",
       "      <th>S_Area_Ha</th>\n",
       "      <th>M_Area_Ha</th>\n",
       "      <th>S_Prod_Tot</th>\n",
       "      <th>M_Prod_Tot</th>\n",
       "    </tr>\n",
       "  </thead>\n",
       "  <tbody>\n",
       "    <tr>\n",
       "      <th>count</th>\n",
       "      <td>7.000000</td>\n",
       "      <td>7.000000</td>\n",
       "      <td>7.000000e+00</td>\n",
       "      <td>7.000000</td>\n",
       "      <td>7.000000</td>\n",
       "      <td>7.000000</td>\n",
       "      <td>7.000000</td>\n",
       "      <td>7.000000</td>\n",
       "      <td>7.000000e+00</td>\n",
       "      <td>7.000000e+00</td>\n",
       "    </tr>\n",
       "    <tr>\n",
       "      <th>mean</th>\n",
       "      <td>61.714286</td>\n",
       "      <td>214943.571429</td>\n",
       "      <td>3.960853e+09</td>\n",
       "      <td>269.285714</td>\n",
       "      <td>986.142857</td>\n",
       "      <td>21094.520379</td>\n",
       "      <td>16737.636651</td>\n",
       "      <td>3983.947082</td>\n",
       "      <td>4.873098e+06</td>\n",
       "      <td>4.085632e+06</td>\n",
       "    </tr>\n",
       "    <tr>\n",
       "      <th>std</th>\n",
       "      <td>36.481567</td>\n",
       "      <td>188604.280916</td>\n",
       "      <td>1.781860e+09</td>\n",
       "      <td>119.243049</td>\n",
       "      <td>321.566700</td>\n",
       "      <td>17363.854165</td>\n",
       "      <td>16625.963460</td>\n",
       "      <td>2678.911441</td>\n",
       "      <td>5.743724e+06</td>\n",
       "      <td>2.877188e+06</td>\n",
       "    </tr>\n",
       "    <tr>\n",
       "      <th>min</th>\n",
       "      <td>5.000000</td>\n",
       "      <td>90385.000000</td>\n",
       "      <td>1.643583e+09</td>\n",
       "      <td>128.000000</td>\n",
       "      <td>355.000000</td>\n",
       "      <td>5470.068394</td>\n",
       "      <td>2973.423860</td>\n",
       "      <td>1190.050606</td>\n",
       "      <td>6.069440e+05</td>\n",
       "      <td>4.224680e+05</td>\n",
       "    </tr>\n",
       "    <tr>\n",
       "      <th>25%</th>\n",
       "      <td>37.000000</td>\n",
       "      <td>114800.500000</td>\n",
       "      <td>3.171069e+09</td>\n",
       "      <td>171.000000</td>\n",
       "      <td>899.500000</td>\n",
       "      <td>5860.128883</td>\n",
       "      <td>4009.522373</td>\n",
       "      <td>1799.997070</td>\n",
       "      <td>1.040529e+06</td>\n",
       "      <td>1.966571e+06</td>\n",
       "    </tr>\n",
       "    <tr>\n",
       "      <th>50%</th>\n",
       "      <td>80.000000</td>\n",
       "      <td>146780.000000</td>\n",
       "      <td>3.641540e+09</td>\n",
       "      <td>279.000000</td>\n",
       "      <td>1040.000000</td>\n",
       "      <td>22944.296020</td>\n",
       "      <td>16142.015880</td>\n",
       "      <td>2733.661014</td>\n",
       "      <td>2.211456e+06</td>\n",
       "      <td>3.545558e+06</td>\n",
       "    </tr>\n",
       "    <tr>\n",
       "      <th>75%</th>\n",
       "      <td>88.500000</td>\n",
       "      <td>205391.000000</td>\n",
       "      <td>4.362553e+09</td>\n",
       "      <td>343.500000</td>\n",
       "      <td>1206.000000</td>\n",
       "      <td>27247.185510</td>\n",
       "      <td>19890.764085</td>\n",
       "      <td>6484.753740</td>\n",
       "      <td>6.290160e+06</td>\n",
       "      <td>6.288030e+06</td>\n",
       "    </tr>\n",
       "    <tr>\n",
       "      <th>max</th>\n",
       "      <td>96.000000</td>\n",
       "      <td>627057.000000</td>\n",
       "      <td>7.373606e+09</td>\n",
       "      <td>449.000000</td>\n",
       "      <td>1297.000000</td>\n",
       "      <td>53032.649450</td>\n",
       "      <td>50247.443900</td>\n",
       "      <td>7394.416334</td>\n",
       "      <td>1.663190e+07</td>\n",
       "      <td>8.122197e+06</td>\n",
       "    </tr>\n",
       "  </tbody>\n",
       "</table>\n",
       "</div>"
      ],
      "text/plain": [
       "        OBJECTID            POP          Area  S_Yield_Ha   M_Yield_Ha  \\\n",
       "count   7.000000       7.000000  7.000000e+00    7.000000     7.000000   \n",
       "mean   61.714286  214943.571429  3.960853e+09  269.285714   986.142857   \n",
       "std    36.481567  188604.280916  1.781860e+09  119.243049   321.566700   \n",
       "min     5.000000   90385.000000  1.643583e+09  128.000000   355.000000   \n",
       "25%    37.000000  114800.500000  3.171069e+09  171.000000   899.500000   \n",
       "50%    80.000000  146780.000000  3.641540e+09  279.000000  1040.000000   \n",
       "75%    88.500000  205391.000000  4.362553e+09  343.500000  1206.000000   \n",
       "max    96.000000  627057.000000  7.373606e+09  449.000000  1297.000000   \n",
       "\n",
       "       Crop_Area_Ha     S_Area_Ha    M_Area_Ha    S_Prod_Tot    M_Prod_Tot  \n",
       "count      7.000000      7.000000     7.000000  7.000000e+00  7.000000e+00  \n",
       "mean   21094.520379  16737.636651  3983.947082  4.873098e+06  4.085632e+06  \n",
       "std    17363.854165  16625.963460  2678.911441  5.743724e+06  2.877188e+06  \n",
       "min     5470.068394   2973.423860  1190.050606  6.069440e+05  4.224680e+05  \n",
       "25%     5860.128883   4009.522373  1799.997070  1.040529e+06  1.966571e+06  \n",
       "50%    22944.296020  16142.015880  2733.661014  2.211456e+06  3.545558e+06  \n",
       "75%    27247.185510  19890.764085  6484.753740  6.290160e+06  6.288030e+06  \n",
       "max    53032.649450  50247.443900  7394.416334  1.663190e+07  8.122197e+06  "
      ]
     },
     "execution_count": 8,
     "metadata": {},
     "output_type": "execute_result"
    }
   ],
   "source": [
    "district.describe() #generates descriptive statistics of a DataFrame \n",
    "#it returns a table containing various summary statistics for each numerical column.\n"
   ]
  },
  {
   "cell_type": "code",
   "execution_count": 9,
   "metadata": {},
   "outputs": [
    {
     "data": {
      "text/html": [
       "<div>\n",
       "<style scoped>\n",
       "    .dataframe tbody tr th:only-of-type {\n",
       "        vertical-align: middle;\n",
       "    }\n",
       "\n",
       "    .dataframe tbody tr th {\n",
       "        vertical-align: top;\n",
       "    }\n",
       "\n",
       "    .dataframe thead th {\n",
       "        text-align: right;\n",
       "    }\n",
       "</style>\n",
       "<table border=\"1\" class=\"dataframe\">\n",
       "  <thead>\n",
       "    <tr style=\"text-align: right;\">\n",
       "      <th></th>\n",
       "      <th>OBJECTID</th>\n",
       "      <th>POP</th>\n",
       "      <th>Area</th>\n",
       "      <th>S_Yield_Ha</th>\n",
       "      <th>M_Yield_Ha</th>\n",
       "      <th>Crop_Area_Ha</th>\n",
       "      <th>S_Area_Ha</th>\n",
       "      <th>M_Area_Ha</th>\n",
       "      <th>S_Prod_Tot</th>\n",
       "      <th>M_Prod_Tot</th>\n",
       "    </tr>\n",
       "  </thead>\n",
       "  <tbody>\n",
       "    <tr>\n",
       "      <th>count</th>\n",
       "      <td>52.000000</td>\n",
       "      <td>52.000000</td>\n",
       "      <td>5.200000e+01</td>\n",
       "      <td>52.000000</td>\n",
       "      <td>52.000000</td>\n",
       "      <td>52.000000</td>\n",
       "      <td>52.000000</td>\n",
       "      <td>52.000000</td>\n",
       "      <td>5.200000e+01</td>\n",
       "      <td>5.200000e+01</td>\n",
       "    </tr>\n",
       "    <tr>\n",
       "      <th>mean</th>\n",
       "      <td>787.865385</td>\n",
       "      <td>28934.692308</td>\n",
       "      <td>5.331913e+08</td>\n",
       "      <td>274.165405</td>\n",
       "      <td>940.259552</td>\n",
       "      <td>2839.646974</td>\n",
       "      <td>2253.143395</td>\n",
       "      <td>536.300569</td>\n",
       "      <td>6.557443e+05</td>\n",
       "      <td>5.500730e+05</td>\n",
       "    </tr>\n",
       "    <tr>\n",
       "      <th>std</th>\n",
       "      <td>280.101314</td>\n",
       "      <td>20865.122974</td>\n",
       "      <td>4.913308e+08</td>\n",
       "      <td>118.569907</td>\n",
       "      <td>321.641901</td>\n",
       "      <td>3110.505917</td>\n",
       "      <td>2954.355858</td>\n",
       "      <td>724.092288</td>\n",
       "      <td>9.915839e+05</td>\n",
       "      <td>7.939707e+05</td>\n",
       "    </tr>\n",
       "    <tr>\n",
       "      <th>min</th>\n",
       "      <td>263.000000</td>\n",
       "      <td>1418.000000</td>\n",
       "      <td>2.121209e+06</td>\n",
       "      <td>108.156411</td>\n",
       "      <td>0.000000</td>\n",
       "      <td>0.171390</td>\n",
       "      <td>0.130941</td>\n",
       "      <td>0.000000</td>\n",
       "      <td>1.728126e+01</td>\n",
       "      <td>0.000000e+00</td>\n",
       "    </tr>\n",
       "    <tr>\n",
       "      <th>25%</th>\n",
       "      <td>597.750000</td>\n",
       "      <td>16558.500000</td>\n",
       "      <td>1.568923e+08</td>\n",
       "      <td>173.034066</td>\n",
       "      <td>743.075879</td>\n",
       "      <td>964.876031</td>\n",
       "      <td>405.394759</td>\n",
       "      <td>79.821743</td>\n",
       "      <td>1.210555e+05</td>\n",
       "      <td>6.087012e+04</td>\n",
       "    </tr>\n",
       "    <tr>\n",
       "      <th>50%</th>\n",
       "      <td>810.500000</td>\n",
       "      <td>23053.500000</td>\n",
       "      <td>3.848356e+08</td>\n",
       "      <td>277.255206</td>\n",
       "      <td>1016.684002</td>\n",
       "      <td>1654.265138</td>\n",
       "      <td>1231.824455</td>\n",
       "      <td>326.479336</td>\n",
       "      <td>2.543687e+05</td>\n",
       "      <td>2.896239e+05</td>\n",
       "    </tr>\n",
       "    <tr>\n",
       "      <th>75%</th>\n",
       "      <td>982.250000</td>\n",
       "      <td>39461.000000</td>\n",
       "      <td>7.749029e+08</td>\n",
       "      <td>368.246437</td>\n",
       "      <td>1203.548665</td>\n",
       "      <td>3267.564651</td>\n",
       "      <td>2429.985069</td>\n",
       "      <td>740.296675</td>\n",
       "      <td>6.040942e+05</td>\n",
       "      <td>8.114574e+05</td>\n",
       "    </tr>\n",
       "    <tr>\n",
       "      <th>max</th>\n",
       "      <td>1320.000000</td>\n",
       "      <td>100919.000000</td>\n",
       "      <td>2.069555e+09</td>\n",
       "      <td>560.313070</td>\n",
       "      <td>1396.991494</td>\n",
       "      <td>13587.990760</td>\n",
       "      <td>12964.499730</td>\n",
       "      <td>3840.698081</td>\n",
       "      <td>4.582294e+06</td>\n",
       "      <td>4.365058e+06</td>\n",
       "    </tr>\n",
       "  </tbody>\n",
       "</table>\n",
       "</div>"
      ],
      "text/plain": [
       "          OBJECTID            POP          Area  S_Yield_Ha   M_Yield_Ha  \\\n",
       "count    52.000000      52.000000  5.200000e+01   52.000000    52.000000   \n",
       "mean    787.865385   28934.692308  5.331913e+08  274.165405   940.259552   \n",
       "std     280.101314   20865.122974  4.913308e+08  118.569907   321.641901   \n",
       "min     263.000000    1418.000000  2.121209e+06  108.156411     0.000000   \n",
       "25%     597.750000   16558.500000  1.568923e+08  173.034066   743.075879   \n",
       "50%     810.500000   23053.500000  3.848356e+08  277.255206  1016.684002   \n",
       "75%     982.250000   39461.000000  7.749029e+08  368.246437  1203.548665   \n",
       "max    1320.000000  100919.000000  2.069555e+09  560.313070  1396.991494   \n",
       "\n",
       "       Crop_Area_Ha     S_Area_Ha    M_Area_Ha    S_Prod_Tot    M_Prod_Tot  \n",
       "count     52.000000     52.000000    52.000000  5.200000e+01  5.200000e+01  \n",
       "mean    2839.646974   2253.143395   536.300569  6.557443e+05  5.500730e+05  \n",
       "std     3110.505917   2954.355858   724.092288  9.915839e+05  7.939707e+05  \n",
       "min        0.171390      0.130941     0.000000  1.728126e+01  0.000000e+00  \n",
       "25%      964.876031    405.394759    79.821743  1.210555e+05  6.087012e+04  \n",
       "50%     1654.265138   1231.824455   326.479336  2.543687e+05  2.896239e+05  \n",
       "75%     3267.564651   2429.985069   740.296675  6.040942e+05  8.114574e+05  \n",
       "max    13587.990760  12964.499730  3840.698081  4.582294e+06  4.365058e+06  "
      ]
     },
     "execution_count": 9,
     "metadata": {},
     "output_type": "execute_result"
    }
   ],
   "source": [
    "subcounty.describe()"
   ]
  },
  {
   "cell_type": "code",
   "execution_count": 10,
   "metadata": {},
   "outputs": [
    {
     "name": "stdout",
     "output_type": "stream",
     "text": [
      "          NAME\n",
      "count        7\n",
      "unique       7\n",
      "top     KOTIDO\n",
      "freq         1 \n",
      "\n",
      "       SUBCOUNTY_NAME DISTRICT_NAME Karamoja\n",
      "count              52            52       52\n",
      "unique             52             7        1\n",
      "top            MATANY       KAABONG        Y\n",
      "freq                1            14       52\n"
     ]
    }
   ],
   "source": [
    "print(district.describe(include = object),\"\\n\")\n",
    "print (subcounty.describe(include = object))\n",
    "\n",
    "\n",
    "# district.describe(include=object)`: This retrieves descriptive statistics specifically for columns in the `district` DataFrame that are of type object (usually strings or categorical values).\n",
    "# It will provide information such as count, unique values, top value, and frequency of the top value.\n",
    "\n",
    "# subcounty.describe(include=object)`: Similarly, this generates descriptive statistics for the `subcounty` DataFrame for its object-type columns.\n"
   ]
  },
  {
   "cell_type": "markdown",
   "metadata": {},
   "source": [
    "### check the column names of the DataFrames by accessing the .columns attribute:"
   ]
  },
  {
   "cell_type": "code",
   "execution_count": 11,
   "metadata": {},
   "outputs": [
    {
     "name": "stdout",
     "output_type": "stream",
     "text": [
      "Column names in the District DataFrame:\n",
      "Index(['OBJECTID', 'NAME', 'POP', 'Area', 'S_Yield_Ha', 'M_Yield_Ha',\n",
      "       'Crop_Area_Ha', 'S_Area_Ha', 'M_Area_Ha', 'S_Prod_Tot', 'M_Prod_Tot'],\n",
      "      dtype='object') \n",
      "\n",
      "Column names in the subcountyDataFrame:\n",
      "Index(['OBJECTID', 'SUBCOUNTY_NAME', 'DISTRICT_NAME', 'POP', 'Area',\n",
      "       'Karamoja', 'S_Yield_Ha', 'M_Yield_Ha', 'Crop_Area_Ha', 'S_Area_Ha',\n",
      "       'M_Area_Ha', 'S_Prod_Tot', 'M_Prod_Tot'],\n",
      "      dtype='object')\n"
     ]
    }
   ],
   "source": [
    "# Check column names for the district DataFrame\n",
    "print(\"Column names in the District DataFrame:\")\n",
    "print(district.columns, \"\\n\")\n",
    "#checking colum names for the subcounty DataFrame\n",
    "print(\"Column names in the subcountyDataFrame:\")\n",
    "print(subcounty.columns)"
   ]
  },
  {
   "cell_type": "markdown",
   "metadata": {},
   "source": [
    "## Findings"
   ]
  },
  {
   "cell_type": "markdown",
   "metadata": {},
   "source": [
    "1. ***Kaabong*** is the most populous district, with more than double the population of ***Kotido***. ***Abim*** and ***Amudat*** have notably lower populations, highlighting a significant disparity across the districts.\n",
    "2. ***Kotido*** stands out as the leading district in maize production, significantly surpassing other districts, while ***Kaabong*** leads in sorghum yields, indicating varying agricultural strengths across the regions.\n",
    "3.  In some districts, the population may rely more on alternative livelihoods (e.g pastoralism, trade, or mining), leading to a weaker connection between population size and agricultural land use.\n",
    "4. ***Nakapiripirit*** and ***Kaabong*** excel in maize production, while ***Kotido*** is key for sorghum, highlighting distinct agricultural strengths among the districts.\n",
    "5. The trends, while generally increasing, may indicate periods of lower production despite increased area, highlighting potential inefficiencies or challenges in crop yield.\n"
   ]
  },
  {
   "cell_type": "markdown",
   "metadata": {},
   "source": [
    "## Recommendations"
   ]
  },
  {
   "cell_type": "markdown",
   "metadata": {},
   "source": [
    "1. Focus resources on Kaabong and Nakapiripirit to boost maize production and on Kotido for sorghum, leveraging their strengths.\n",
    "2. In districts with weaker agriculture, invest in alternative livelihoods like pastoralism, trade, or mining to balance economic reliance.\n",
    "3. Examine why some districts with more cultivation area have lower yields and implement strategies to enhance productivity.\n",
    "4. Factor in population disparities when distributing resources to ensure equitable support for agriculture and livelihoods."
   ]
  },
  {
   "cell_type": "markdown",
   "metadata": {},
   "source": [
    "## Conclusion"
   ]
  },
  {
   "cell_type": "markdown",
   "metadata": {},
   "source": [
    "***Kaabong*** and ***Nakapiripirit*** should get a boost to improve maize production, and ***Kotido*** needs to focus on enhancing sorghum yields. For areas with weaker agriculture, exploring alternatives like pastoralism or trade could help. It’s also important to address why some districts aren't seeing better yields with more land and keep population differences in mind when planning resource support.\n"
   ]
  }
 ],
 "metadata": {
  "kernelspec": {
   "display_name": "Python (learn-env)",
   "language": "python",
   "name": "learn-env"
  },
  "language_info": {
   "codemirror_mode": {
    "name": "ipython",
    "version": 3
   },
   "file_extension": ".py",
   "mimetype": "text/x-python",
   "name": "python",
   "nbconvert_exporter": "python",
   "pygments_lexer": "ipython3",
   "version": "3.8.5"
  }
 },
 "nbformat": 4,
 "nbformat_minor": 4
}
